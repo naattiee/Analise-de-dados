{
 "cells": [
  {
   "cell_type": "code",
   "execution_count": 1,
   "metadata": {},
   "outputs": [],
   "source": [
    "#NOMES: FERNANDO SOARES e NATÁLIA MARQUES MARINHO.\n",
    "import pandas as pd\n",
    "import seaborn as sb\n",
    "import matplotlib.pyplot as plt\n",
    "import numpy as np\n",
    "low_memory=False\n",
    "%matplotlib inline\n",
    "pd.options.display.max_columns = 80\n",
    "pd.options.display.max_rows = 90"
   ]
  },
  {
   "cell_type": "code",
   "execution_count": 2,
   "metadata": {},
   "outputs": [],
   "source": [
    "filename = 'obitos_infantis.csv'\n",
    "df = pd.read_csv(filename)"
   ]
  },
  {
   "cell_type": "code",
   "execution_count": 3,
   "metadata": {},
   "outputs": [
    {
     "data": {
      "text/plain": [
       "(5570, 2)"
      ]
     },
     "execution_count": 3,
     "metadata": {},
     "output_type": "execute_result"
    }
   ],
   "source": [
    "df.shape"
   ]
  },
  {
   "cell_type": "code",
   "execution_count": 4,
   "metadata": {},
   "outputs": [
    {
     "data": {
      "text/plain": [
       "Index(['indicx', 'no_cidade'], dtype='object')"
      ]
     },
     "execution_count": 4,
     "metadata": {},
     "output_type": "execute_result"
    }
   ],
   "source": [
    "df.columns"
   ]
  },
  {
   "cell_type": "code",
   "execution_count": 5,
   "metadata": {},
   "outputs": [
    {
     "data": {
      "text/plain": [
       "0             Alta Floresta D'Oeste\n",
       "1                         Ariquemes\n",
       "2                            Cabixi\n",
       "3                            Cacoal\n",
       "4                        Cerejeiras\n",
       "5                 Colorado do Oeste\n",
       "6                        Corumbiara\n",
       "7                     Costa Marques\n",
       "8                   Espigão D'Oeste\n",
       "9                     Guajará-Mirim\n",
       "10                             Jaru\n",
       "11                        Ji-Paraná\n",
       "12               Machadinho D'Oeste\n",
       "13         Nova Brasilândia D'Oeste\n",
       "14              Ouro Preto do Oeste\n",
       "15                    Pimenta Bueno\n",
       "16                      Porto Velho\n",
       "17                Presidente Médici\n",
       "18                       Rio Crespo\n",
       "19                   Rolim de Moura\n",
       "20              Santa Luzia D'Oeste\n",
       "21                          Vilhena\n",
       "22            São Miguel do Guaporé\n",
       "23                      Nova Mamoré\n",
       "24                 Alvorada D'Oeste\n",
       "25          Alto Alegre dos Parecis\n",
       "26                     Alto Paraíso\n",
       "27                          Buritis\n",
       "28          Novo Horizonte do Oeste\n",
       "29                      Cacaulândia\n",
       "30           Campo Novo de Rondônia\n",
       "31               Candeias do Jamari\n",
       "32                     Castanheiras\n",
       "33                      Chupinguaia\n",
       "34                          Cujubim\n",
       "35        Governador Jorge Teixeira\n",
       "36                  Itapuã do Oeste\n",
       "37               Ministro Andreazza\n",
       "38                 Mirante da Serra\n",
       "39                      Monte Negro\n",
       "40                       Nova União\n",
       "41                          Parecis\n",
       "42             Pimenteiras do Oeste\n",
       "43            Primavera de Rondônia\n",
       "44               São Felipe D'Oeste\n",
       "                   ...             \n",
       "5525              Santa Fé de Goiás\n",
       "5526          Santa Helena de Goiás\n",
       "5527                   Santa Isabel\n",
       "5528         Santa Rita do Araguaia\n",
       "5529     Santa Rita do Novo Destino\n",
       "5530            Santa Rosa de Goiás\n",
       "5531          Santa Tereza de Goiás\n",
       "5532       Santa Terezinha de Goiás\n",
       "5533         Santo Antônio da Barra\n",
       "5534         Santo Antônio de Goiás\n",
       "5535    Santo Antônio do Descoberto\n",
       "5536                   São Domingos\n",
       "5537         São Francisco de Goiás\n",
       "5538             São João d'Aliança\n",
       "5539            São João da Paraúna\n",
       "5540       São Luís de Montes Belos\n",
       "5541              São Luíz do Norte\n",
       "5542         São Miguel do Araguaia\n",
       "5543     São Miguel do Passa Quatro\n",
       "5544                   São Patrício\n",
       "5545                      São Simão\n",
       "5546                 Senador Canedo\n",
       "5547                   Serranópolis\n",
       "5548                       Silvânia\n",
       "5549                     Simolândia\n",
       "5550                 Sítio d'Abadia\n",
       "5551              Taquaral de Goiás\n",
       "5552              Teresina de Goiás\n",
       "5553           Terezópolis de Goiás\n",
       "5554                   Três Ranchos\n",
       "5555                       Trindade\n",
       "5556                        Trombas\n",
       "5557                       Turvânia\n",
       "5558                    Turvelândia\n",
       "5559                       Uirapuru\n",
       "5560                         Uruaçu\n",
       "5561                         Uruana\n",
       "5562                         Urutaí\n",
       "5563            Valparaíso de Goiás\n",
       "5564                         Varjão\n",
       "5565                     Vianópolis\n",
       "5566                 Vicentinópolis\n",
       "5567                       Vila Boa\n",
       "5568                  Vila Propício\n",
       "5569                       Brasília\n",
       "Name: no_cidade, Length: 5570, dtype: object"
      ]
     },
     "execution_count": 5,
     "metadata": {},
     "output_type": "execute_result"
    }
   ],
   "source": [
    "df[\"no_cidade\"]"
   ]
  },
  {
   "cell_type": "code",
   "execution_count": 6,
   "metadata": {},
   "outputs": [
    {
     "data": {
      "text/html": [
       "<div>\n",
       "<style scoped>\n",
       "    .dataframe tbody tr th:only-of-type {\n",
       "        vertical-align: middle;\n",
       "    }\n",
       "\n",
       "    .dataframe tbody tr th {\n",
       "        vertical-align: top;\n",
       "    }\n",
       "\n",
       "    .dataframe thead th {\n",
       "        text-align: right;\n",
       "    }\n",
       "</style>\n",
       "<table border=\"1\" class=\"dataframe\">\n",
       "  <thead>\n",
       "    <tr style=\"text-align: right;\">\n",
       "      <th></th>\n",
       "      <th>indicx</th>\n",
       "      <th>no_cidade</th>\n",
       "    </tr>\n",
       "  </thead>\n",
       "  <tbody>\n",
       "    <tr>\n",
       "      <th>5323</th>\n",
       "      <td>0.00</td>\n",
       "      <td>Abadia de Goiás</td>\n",
       "    </tr>\n",
       "    <tr>\n",
       "      <th>2244</th>\n",
       "      <td>0.00</td>\n",
       "      <td>Abadia dos Dourados</td>\n",
       "    </tr>\n",
       "    <tr>\n",
       "      <th>5324</th>\n",
       "      <td>0.00</td>\n",
       "      <td>Abadiânia</td>\n",
       "    </tr>\n",
       "    <tr>\n",
       "      <th>151</th>\n",
       "      <td>7.69</td>\n",
       "      <td>Abaetetuba</td>\n",
       "    </tr>\n",
       "    <tr>\n",
       "      <th>2245</th>\n",
       "      <td>100.00</td>\n",
       "      <td>Abaeté</td>\n",
       "    </tr>\n",
       "    <tr>\n",
       "      <th>891</th>\n",
       "      <td>100.00</td>\n",
       "      <td>Abaiara</td>\n",
       "    </tr>\n",
       "    <tr>\n",
       "      <th>1828</th>\n",
       "      <td>83.33</td>\n",
       "      <td>Abaré</td>\n",
       "    </tr>\n",
       "    <tr>\n",
       "      <th>3912</th>\n",
       "      <td>0.00</td>\n",
       "      <td>Abatiá</td>\n",
       "    </tr>\n",
       "    <tr>\n",
       "      <th>1827</th>\n",
       "      <td>0.00</td>\n",
       "      <td>Abaíra</td>\n",
       "    </tr>\n",
       "    <tr>\n",
       "      <th>4311</th>\n",
       "      <td>0.00</td>\n",
       "      <td>Abdon Batista</td>\n",
       "    </tr>\n",
       "    <tr>\n",
       "      <th>152</th>\n",
       "      <td>100.00</td>\n",
       "      <td>Abel Figueiredo</td>\n",
       "    </tr>\n",
       "    <tr>\n",
       "      <th>4312</th>\n",
       "      <td>100.00</td>\n",
       "      <td>Abelardo Luz</td>\n",
       "    </tr>\n",
       "    <tr>\n",
       "      <th>2246</th>\n",
       "      <td>100.00</td>\n",
       "      <td>Abre Campo</td>\n",
       "    </tr>\n",
       "    <tr>\n",
       "      <th>1465</th>\n",
       "      <td>31.57</td>\n",
       "      <td>Abreu e Lima</td>\n",
       "    </tr>\n",
       "    <tr>\n",
       "      <th>311</th>\n",
       "      <td>0.00</td>\n",
       "      <td>Abreulândia</td>\n",
       "    </tr>\n",
       "    <tr>\n",
       "      <th>2247</th>\n",
       "      <td>0.00</td>\n",
       "      <td>Acaiaca</td>\n",
       "    </tr>\n",
       "    <tr>\n",
       "      <th>1829</th>\n",
       "      <td>55.55</td>\n",
       "      <td>Acajutiba</td>\n",
       "    </tr>\n",
       "    <tr>\n",
       "      <th>892</th>\n",
       "      <td>0.00</td>\n",
       "      <td>Acarape</td>\n",
       "    </tr>\n",
       "    <tr>\n",
       "      <th>893</th>\n",
       "      <td>100.00</td>\n",
       "      <td>Acaraú</td>\n",
       "    </tr>\n",
       "    <tr>\n",
       "      <th>1075</th>\n",
       "      <td>0.00</td>\n",
       "      <td>Acari</td>\n",
       "    </tr>\n",
       "    <tr>\n",
       "      <th>153</th>\n",
       "      <td>0.00</td>\n",
       "      <td>Acará</td>\n",
       "    </tr>\n",
       "    <tr>\n",
       "      <th>667</th>\n",
       "      <td>100.00</td>\n",
       "      <td>Acauã</td>\n",
       "    </tr>\n",
       "    <tr>\n",
       "      <th>4606</th>\n",
       "      <td>100.00</td>\n",
       "      <td>Aceguá</td>\n",
       "    </tr>\n",
       "    <tr>\n",
       "      <th>894</th>\n",
       "      <td>100.00</td>\n",
       "      <td>Acopiara</td>\n",
       "    </tr>\n",
       "    <tr>\n",
       "      <th>5182</th>\n",
       "      <td>66.66</td>\n",
       "      <td>Acorizal</td>\n",
       "    </tr>\n",
       "    <tr>\n",
       "      <th>52</th>\n",
       "      <td>0.00</td>\n",
       "      <td>Acrelândia</td>\n",
       "    </tr>\n",
       "    <tr>\n",
       "      <th>5325</th>\n",
       "      <td>0.00</td>\n",
       "      <td>Acreúna</td>\n",
       "    </tr>\n",
       "    <tr>\n",
       "      <th>3267</th>\n",
       "      <td>100.00</td>\n",
       "      <td>Adamantina</td>\n",
       "    </tr>\n",
       "    <tr>\n",
       "      <th>5326</th>\n",
       "      <td>0.00</td>\n",
       "      <td>Adelândia</td>\n",
       "    </tr>\n",
       "    <tr>\n",
       "      <th>3268</th>\n",
       "      <td>0.00</td>\n",
       "      <td>Adolfo</td>\n",
       "    </tr>\n",
       "    <tr>\n",
       "      <th>3913</th>\n",
       "      <td>0.00</td>\n",
       "      <td>Adrianópolis</td>\n",
       "    </tr>\n",
       "    <tr>\n",
       "      <th>1830</th>\n",
       "      <td>100.00</td>\n",
       "      <td>Adustina</td>\n",
       "    </tr>\n",
       "    <tr>\n",
       "      <th>1466</th>\n",
       "      <td>7.14</td>\n",
       "      <td>Afogados da Ingazeira</td>\n",
       "    </tr>\n",
       "    <tr>\n",
       "      <th>1077</th>\n",
       "      <td>0.00</td>\n",
       "      <td>Afonso Bezerra</td>\n",
       "    </tr>\n",
       "    <tr>\n",
       "      <th>3097</th>\n",
       "      <td>100.00</td>\n",
       "      <td>Afonso Cláudio</td>\n",
       "    </tr>\n",
       "    <tr>\n",
       "      <th>451</th>\n",
       "      <td>0.00</td>\n",
       "      <td>Afonso Cunha</td>\n",
       "    </tr>\n",
       "    <tr>\n",
       "      <th>1467</th>\n",
       "      <td>100.00</td>\n",
       "      <td>Afrânio</td>\n",
       "    </tr>\n",
       "    <tr>\n",
       "      <th>154</th>\n",
       "      <td>0.00</td>\n",
       "      <td>Afuá</td>\n",
       "    </tr>\n",
       "    <tr>\n",
       "      <th>1468</th>\n",
       "      <td>16.66</td>\n",
       "      <td>Agrestina</td>\n",
       "    </tr>\n",
       "    <tr>\n",
       "      <th>668</th>\n",
       "      <td>0.00</td>\n",
       "      <td>Agricolândia</td>\n",
       "    </tr>\n",
       "    <tr>\n",
       "      <th>4313</th>\n",
       "      <td>0.00</td>\n",
       "      <td>Agrolândia</td>\n",
       "    </tr>\n",
       "    <tr>\n",
       "      <th>4314</th>\n",
       "      <td>0.00</td>\n",
       "      <td>Agronômica</td>\n",
       "    </tr>\n",
       "    <tr>\n",
       "      <th>2251</th>\n",
       "      <td>0.00</td>\n",
       "      <td>Aguanil</td>\n",
       "    </tr>\n",
       "    <tr>\n",
       "      <th>3269</th>\n",
       "      <td>100.00</td>\n",
       "      <td>Aguaí</td>\n",
       "    </tr>\n",
       "    <tr>\n",
       "      <th>4608</th>\n",
       "      <td>100.00</td>\n",
       "      <td>Agudo</td>\n",
       "    </tr>\n",
       "    <tr>\n",
       "      <th>...</th>\n",
       "      <td>...</td>\n",
       "      <td>...</td>\n",
       "    </tr>\n",
       "    <tr>\n",
       "      <th>4603</th>\n",
       "      <td>50.00</td>\n",
       "      <td>Xaxim</td>\n",
       "    </tr>\n",
       "    <tr>\n",
       "      <th>1649</th>\n",
       "      <td>12.50</td>\n",
       "      <td>Xexéu</td>\n",
       "    </tr>\n",
       "    <tr>\n",
       "      <th>294</th>\n",
       "      <td>0.00</td>\n",
       "      <td>Xinguara</td>\n",
       "    </tr>\n",
       "    <tr>\n",
       "      <th>2243</th>\n",
       "      <td>0.00</td>\n",
       "      <td>Xique-Xique</td>\n",
       "    </tr>\n",
       "    <tr>\n",
       "      <th>1464</th>\n",
       "      <td>0.00</td>\n",
       "      <td>Zabelê</td>\n",
       "    </tr>\n",
       "    <tr>\n",
       "      <th>3909</th>\n",
       "      <td>0.00</td>\n",
       "      <td>Zacarias</td>\n",
       "    </tr>\n",
       "    <tr>\n",
       "      <th>4604</th>\n",
       "      <td>0.00</td>\n",
       "      <td>Zortéa</td>\n",
       "    </tr>\n",
       "    <tr>\n",
       "      <th>666</th>\n",
       "      <td>50.00</td>\n",
       "      <td>Zé Doca</td>\n",
       "    </tr>\n",
       "    <tr>\n",
       "      <th>155</th>\n",
       "      <td>100.00</td>\n",
       "      <td>Água Azul do Norte</td>\n",
       "    </tr>\n",
       "    <tr>\n",
       "      <th>2249</th>\n",
       "      <td>0.00</td>\n",
       "      <td>Água Boa</td>\n",
       "    </tr>\n",
       "    <tr>\n",
       "      <th>5183</th>\n",
       "      <td>100.00</td>\n",
       "      <td>Água Boa</td>\n",
       "    </tr>\n",
       "    <tr>\n",
       "      <th>669</th>\n",
       "      <td>0.00</td>\n",
       "      <td>Água Branca</td>\n",
       "    </tr>\n",
       "    <tr>\n",
       "      <th>1650</th>\n",
       "      <td>87.50</td>\n",
       "      <td>Água Branca</td>\n",
       "    </tr>\n",
       "    <tr>\n",
       "      <th>1242</th>\n",
       "      <td>100.00</td>\n",
       "      <td>Água Branca</td>\n",
       "    </tr>\n",
       "    <tr>\n",
       "      <th>5103</th>\n",
       "      <td>100.00</td>\n",
       "      <td>Água Clara</td>\n",
       "    </tr>\n",
       "    <tr>\n",
       "      <th>2250</th>\n",
       "      <td>100.00</td>\n",
       "      <td>Água Comprida</td>\n",
       "    </tr>\n",
       "    <tr>\n",
       "      <th>4315</th>\n",
       "      <td>100.00</td>\n",
       "      <td>Água Doce</td>\n",
       "    </tr>\n",
       "    <tr>\n",
       "      <th>452</th>\n",
       "      <td>0.00</td>\n",
       "      <td>Água Doce do Maranhão</td>\n",
       "    </tr>\n",
       "    <tr>\n",
       "      <th>3099</th>\n",
       "      <td>100.00</td>\n",
       "      <td>Água Doce do Norte</td>\n",
       "    </tr>\n",
       "    <tr>\n",
       "      <th>1831</th>\n",
       "      <td>100.00</td>\n",
       "      <td>Água Fria</td>\n",
       "    </tr>\n",
       "    <tr>\n",
       "      <th>5327</th>\n",
       "      <td>0.00</td>\n",
       "      <td>Água Fria de Goiás</td>\n",
       "    </tr>\n",
       "    <tr>\n",
       "      <th>5328</th>\n",
       "      <td>0.00</td>\n",
       "      <td>Água Limpa</td>\n",
       "    </tr>\n",
       "    <tr>\n",
       "      <th>1078</th>\n",
       "      <td>0.00</td>\n",
       "      <td>Água Nova</td>\n",
       "    </tr>\n",
       "    <tr>\n",
       "      <th>1469</th>\n",
       "      <td>87.50</td>\n",
       "      <td>Água Preta</td>\n",
       "    </tr>\n",
       "    <tr>\n",
       "      <th>4607</th>\n",
       "      <td>0.00</td>\n",
       "      <td>Água Santa</td>\n",
       "    </tr>\n",
       "    <tr>\n",
       "      <th>1470</th>\n",
       "      <td>19.04</td>\n",
       "      <td>Águas Belas</td>\n",
       "    </tr>\n",
       "    <tr>\n",
       "      <th>2252</th>\n",
       "      <td>60.00</td>\n",
       "      <td>Águas Formosas</td>\n",
       "    </tr>\n",
       "    <tr>\n",
       "      <th>4317</th>\n",
       "      <td>0.00</td>\n",
       "      <td>Águas Frias</td>\n",
       "    </tr>\n",
       "    <tr>\n",
       "      <th>5329</th>\n",
       "      <td>7.40</td>\n",
       "      <td>Águas Lindas de Goiás</td>\n",
       "    </tr>\n",
       "    <tr>\n",
       "      <th>4318</th>\n",
       "      <td>0.00</td>\n",
       "      <td>Águas Mornas</td>\n",
       "    </tr>\n",
       "    <tr>\n",
       "      <th>2253</th>\n",
       "      <td>0.00</td>\n",
       "      <td>Águas Vermelhas</td>\n",
       "    </tr>\n",
       "    <tr>\n",
       "      <th>3270</th>\n",
       "      <td>0.00</td>\n",
       "      <td>Águas da Prata</td>\n",
       "    </tr>\n",
       "    <tr>\n",
       "      <th>4316</th>\n",
       "      <td>50.00</td>\n",
       "      <td>Águas de Chapecó</td>\n",
       "    </tr>\n",
       "    <tr>\n",
       "      <th>3271</th>\n",
       "      <td>100.00</td>\n",
       "      <td>Águas de Lindóia</td>\n",
       "    </tr>\n",
       "    <tr>\n",
       "      <th>3272</th>\n",
       "      <td>0.00</td>\n",
       "      <td>Águas de Santa Bárbara</td>\n",
       "    </tr>\n",
       "    <tr>\n",
       "      <th>3273</th>\n",
       "      <td>0.00</td>\n",
       "      <td>Águas de São Pedro</td>\n",
       "    </tr>\n",
       "    <tr>\n",
       "      <th>3098</th>\n",
       "      <td>33.33</td>\n",
       "      <td>Águia Branca</td>\n",
       "    </tr>\n",
       "    <tr>\n",
       "      <th>3281</th>\n",
       "      <td>0.00</td>\n",
       "      <td>Álvares Florence</td>\n",
       "    </tr>\n",
       "    <tr>\n",
       "      <th>3282</th>\n",
       "      <td>100.00</td>\n",
       "      <td>Álvares Machado</td>\n",
       "    </tr>\n",
       "    <tr>\n",
       "      <th>3283</th>\n",
       "      <td>0.00</td>\n",
       "      <td>Álvaro de Carvalho</td>\n",
       "    </tr>\n",
       "    <tr>\n",
       "      <th>4634</th>\n",
       "      <td>0.00</td>\n",
       "      <td>Áurea</td>\n",
       "    </tr>\n",
       "    <tr>\n",
       "      <th>3925</th>\n",
       "      <td>0.00</td>\n",
       "      <td>Ângulo</td>\n",
       "    </tr>\n",
       "    <tr>\n",
       "      <th>1832</th>\n",
       "      <td>0.00</td>\n",
       "      <td>Érico Cardoso</td>\n",
       "    </tr>\n",
       "    <tr>\n",
       "      <th>232</th>\n",
       "      <td>0.00</td>\n",
       "      <td>Óbidos</td>\n",
       "    </tr>\n",
       "    <tr>\n",
       "      <th>3648</th>\n",
       "      <td>100.00</td>\n",
       "      <td>Óleo</td>\n",
       "    </tr>\n",
       "  </tbody>\n",
       "</table>\n",
       "<p>5570 rows × 2 columns</p>\n",
       "</div>"
      ],
      "text/plain": [
       "      indicx               no_cidade\n",
       "5323    0.00         Abadia de Goiás\n",
       "2244    0.00     Abadia dos Dourados\n",
       "5324    0.00               Abadiânia\n",
       "151     7.69              Abaetetuba\n",
       "2245  100.00                  Abaeté\n",
       "891   100.00                 Abaiara\n",
       "1828   83.33                   Abaré\n",
       "3912    0.00                  Abatiá\n",
       "1827    0.00                  Abaíra\n",
       "4311    0.00           Abdon Batista\n",
       "152   100.00         Abel Figueiredo\n",
       "4312  100.00            Abelardo Luz\n",
       "2246  100.00              Abre Campo\n",
       "1465   31.57            Abreu e Lima\n",
       "311     0.00             Abreulândia\n",
       "2247    0.00                 Acaiaca\n",
       "1829   55.55               Acajutiba\n",
       "892     0.00                 Acarape\n",
       "893   100.00                  Acaraú\n",
       "1075    0.00                   Acari\n",
       "153     0.00                   Acará\n",
       "667   100.00                   Acauã\n",
       "4606  100.00                  Aceguá\n",
       "894   100.00                Acopiara\n",
       "5182   66.66                Acorizal\n",
       "52      0.00              Acrelândia\n",
       "5325    0.00                 Acreúna\n",
       "3267  100.00              Adamantina\n",
       "5326    0.00               Adelândia\n",
       "3268    0.00                  Adolfo\n",
       "3913    0.00            Adrianópolis\n",
       "1830  100.00                Adustina\n",
       "1466    7.14   Afogados da Ingazeira\n",
       "1077    0.00          Afonso Bezerra\n",
       "3097  100.00          Afonso Cláudio\n",
       "451     0.00            Afonso Cunha\n",
       "1467  100.00                 Afrânio\n",
       "154     0.00                    Afuá\n",
       "1468   16.66               Agrestina\n",
       "668     0.00            Agricolândia\n",
       "4313    0.00              Agrolândia\n",
       "4314    0.00              Agronômica\n",
       "2251    0.00                 Aguanil\n",
       "3269  100.00                   Aguaí\n",
       "4608  100.00                   Agudo\n",
       "...      ...                     ...\n",
       "4603   50.00                   Xaxim\n",
       "1649   12.50                   Xexéu\n",
       "294     0.00                Xinguara\n",
       "2243    0.00             Xique-Xique\n",
       "1464    0.00                  Zabelê\n",
       "3909    0.00                Zacarias\n",
       "4604    0.00                  Zortéa\n",
       "666    50.00                 Zé Doca\n",
       "155   100.00      Água Azul do Norte\n",
       "2249    0.00                Água Boa\n",
       "5183  100.00                Água Boa\n",
       "669     0.00             Água Branca\n",
       "1650   87.50             Água Branca\n",
       "1242  100.00             Água Branca\n",
       "5103  100.00              Água Clara\n",
       "2250  100.00           Água Comprida\n",
       "4315  100.00               Água Doce\n",
       "452     0.00   Água Doce do Maranhão\n",
       "3099  100.00      Água Doce do Norte\n",
       "1831  100.00               Água Fria\n",
       "5327    0.00      Água Fria de Goiás\n",
       "5328    0.00              Água Limpa\n",
       "1078    0.00               Água Nova\n",
       "1469   87.50              Água Preta\n",
       "4607    0.00              Água Santa\n",
       "1470   19.04             Águas Belas\n",
       "2252   60.00          Águas Formosas\n",
       "4317    0.00             Águas Frias\n",
       "5329    7.40   Águas Lindas de Goiás\n",
       "4318    0.00            Águas Mornas\n",
       "2253    0.00         Águas Vermelhas\n",
       "3270    0.00          Águas da Prata\n",
       "4316   50.00        Águas de Chapecó\n",
       "3271  100.00        Águas de Lindóia\n",
       "3272    0.00  Águas de Santa Bárbara\n",
       "3273    0.00      Águas de São Pedro\n",
       "3098   33.33            Águia Branca\n",
       "3281    0.00        Álvares Florence\n",
       "3282  100.00         Álvares Machado\n",
       "3283    0.00      Álvaro de Carvalho\n",
       "4634    0.00                   Áurea\n",
       "3925    0.00                  Ângulo\n",
       "1832    0.00           Érico Cardoso\n",
       "232     0.00                  Óbidos\n",
       "3648  100.00                    Óleo\n",
       "\n",
       "[5570 rows x 2 columns]"
      ]
     },
     "execution_count": 6,
     "metadata": {},
     "output_type": "execute_result"
    }
   ],
   "source": [
    "df.sort_values(by=\"no_cidade\")"
   ]
  },
  {
   "cell_type": "code",
   "execution_count": 7,
   "metadata": {},
   "outputs": [
    {
     "name": "stdout",
     "output_type": "stream",
     "text": [
      "<class 'pandas.core.frame.DataFrame'>\n",
      "RangeIndex: 5570 entries, 0 to 5569\n",
      "Data columns (total 2 columns):\n",
      "indicx       5570 non-null float64\n",
      "no_cidade    5570 non-null object\n",
      "dtypes: float64(1), object(1)\n",
      "memory usage: 87.1+ KB\n"
     ]
    }
   ],
   "source": [
    "df.info()"
   ]
  },
  {
   "cell_type": "code",
   "execution_count": 8,
   "metadata": {},
   "outputs": [
    {
     "data": {
      "text/html": [
       "<div>\n",
       "<style scoped>\n",
       "    .dataframe tbody tr th:only-of-type {\n",
       "        vertical-align: middle;\n",
       "    }\n",
       "\n",
       "    .dataframe tbody tr th {\n",
       "        vertical-align: top;\n",
       "    }\n",
       "\n",
       "    .dataframe thead th {\n",
       "        text-align: right;\n",
       "    }\n",
       "</style>\n",
       "<table border=\"1\" class=\"dataframe\">\n",
       "  <thead>\n",
       "    <tr style=\"text-align: right;\">\n",
       "      <th></th>\n",
       "      <th>indicx</th>\n",
       "    </tr>\n",
       "  </thead>\n",
       "  <tbody>\n",
       "    <tr>\n",
       "      <th>count</th>\n",
       "      <td>5570.000000</td>\n",
       "    </tr>\n",
       "    <tr>\n",
       "      <th>mean</th>\n",
       "      <td>42.978113</td>\n",
       "    </tr>\n",
       "    <tr>\n",
       "      <th>std</th>\n",
       "      <td>45.207954</td>\n",
       "    </tr>\n",
       "    <tr>\n",
       "      <th>min</th>\n",
       "      <td>0.000000</td>\n",
       "    </tr>\n",
       "    <tr>\n",
       "      <th>25%</th>\n",
       "      <td>0.000000</td>\n",
       "    </tr>\n",
       "    <tr>\n",
       "      <th>50%</th>\n",
       "      <td>24.185000</td>\n",
       "    </tr>\n",
       "    <tr>\n",
       "      <th>75%</th>\n",
       "      <td>100.000000</td>\n",
       "    </tr>\n",
       "    <tr>\n",
       "      <th>max</th>\n",
       "      <td>100.000000</td>\n",
       "    </tr>\n",
       "  </tbody>\n",
       "</table>\n",
       "</div>"
      ],
      "text/plain": [
       "            indicx\n",
       "count  5570.000000\n",
       "mean     42.978113\n",
       "std      45.207954\n",
       "min       0.000000\n",
       "25%       0.000000\n",
       "50%      24.185000\n",
       "75%     100.000000\n",
       "max     100.000000"
      ]
     },
     "execution_count": 8,
     "metadata": {},
     "output_type": "execute_result"
    }
   ],
   "source": [
    "df.describe()"
   ]
  },
  {
   "cell_type": "code",
   "execution_count": 9,
   "metadata": {},
   "outputs": [
    {
     "data": {
      "text/html": [
       "<div>\n",
       "<style scoped>\n",
       "    .dataframe tbody tr th:only-of-type {\n",
       "        vertical-align: middle;\n",
       "    }\n",
       "\n",
       "    .dataframe tbody tr th {\n",
       "        vertical-align: top;\n",
       "    }\n",
       "\n",
       "    .dataframe thead th {\n",
       "        text-align: right;\n",
       "    }\n",
       "</style>\n",
       "<table border=\"1\" class=\"dataframe\">\n",
       "  <thead>\n",
       "    <tr style=\"text-align: right;\">\n",
       "      <th></th>\n",
       "      <th>indicx</th>\n",
       "      <th>no_cidade</th>\n",
       "    </tr>\n",
       "  </thead>\n",
       "  <tbody>\n",
       "    <tr>\n",
       "      <th>3046</th>\n",
       "      <td>50.00</td>\n",
       "      <td>Tarumirim</td>\n",
       "    </tr>\n",
       "    <tr>\n",
       "      <th>2151</th>\n",
       "      <td>0.00</td>\n",
       "      <td>Riacho de Santana</td>\n",
       "    </tr>\n",
       "    <tr>\n",
       "      <th>1977</th>\n",
       "      <td>50.00</td>\n",
       "      <td>Ibipeba</td>\n",
       "    </tr>\n",
       "    <tr>\n",
       "      <th>2140</th>\n",
       "      <td>0.00</td>\n",
       "      <td>Presidente Dutra</td>\n",
       "    </tr>\n",
       "    <tr>\n",
       "      <th>672</th>\n",
       "      <td>0.00</td>\n",
       "      <td>Alto Longá</td>\n",
       "    </tr>\n",
       "    <tr>\n",
       "      <th>3028</th>\n",
       "      <td>50.00</td>\n",
       "      <td>Serra do Salitre</td>\n",
       "    </tr>\n",
       "    <tr>\n",
       "      <th>2975</th>\n",
       "      <td>100.00</td>\n",
       "      <td>São João do Manteninha</td>\n",
       "    </tr>\n",
       "    <tr>\n",
       "      <th>4073</th>\n",
       "      <td>0.00</td>\n",
       "      <td>Ivaí</td>\n",
       "    </tr>\n",
       "    <tr>\n",
       "      <th>4922</th>\n",
       "      <td>100.00</td>\n",
       "      <td>Pinheiro Machado</td>\n",
       "    </tr>\n",
       "    <tr>\n",
       "      <th>730</th>\n",
       "      <td>100.00</td>\n",
       "      <td>Coronel José Dias</td>\n",
       "    </tr>\n",
       "    <tr>\n",
       "      <th>4038</th>\n",
       "      <td>100.00</td>\n",
       "      <td>Grandes Rios</td>\n",
       "    </tr>\n",
       "    <tr>\n",
       "      <th>3449</th>\n",
       "      <td>0.00</td>\n",
       "      <td>Floreal</td>\n",
       "    </tr>\n",
       "    <tr>\n",
       "      <th>9</th>\n",
       "      <td>68.75</td>\n",
       "      <td>Guajará-Mirim</td>\n",
       "    </tr>\n",
       "    <tr>\n",
       "      <th>3267</th>\n",
       "      <td>100.00</td>\n",
       "      <td>Adamantina</td>\n",
       "    </tr>\n",
       "    <tr>\n",
       "      <th>30</th>\n",
       "      <td>0.00</td>\n",
       "      <td>Campo Novo de Rondônia</td>\n",
       "    </tr>\n",
       "  </tbody>\n",
       "</table>\n",
       "</div>"
      ],
      "text/plain": [
       "      indicx               no_cidade\n",
       "3046   50.00               Tarumirim\n",
       "2151    0.00       Riacho de Santana\n",
       "1977   50.00                 Ibipeba\n",
       "2140    0.00        Presidente Dutra\n",
       "672     0.00              Alto Longá\n",
       "3028   50.00        Serra do Salitre\n",
       "2975  100.00  São João do Manteninha\n",
       "4073    0.00                    Ivaí\n",
       "4922  100.00        Pinheiro Machado\n",
       "730   100.00       Coronel José Dias\n",
       "4038  100.00            Grandes Rios\n",
       "3449    0.00                 Floreal\n",
       "9      68.75           Guajará-Mirim\n",
       "3267  100.00              Adamantina\n",
       "30      0.00  Campo Novo de Rondônia"
      ]
     },
     "execution_count": 9,
     "metadata": {},
     "output_type": "execute_result"
    }
   ],
   "source": [
    "df.sample(15)"
   ]
  },
  {
   "cell_type": "code",
   "execution_count": 10,
   "metadata": {},
   "outputs": [
    {
     "data": {
      "text/html": [
       "<div>\n",
       "<style scoped>\n",
       "    .dataframe tbody tr th:only-of-type {\n",
       "        vertical-align: middle;\n",
       "    }\n",
       "\n",
       "    .dataframe tbody tr th {\n",
       "        vertical-align: top;\n",
       "    }\n",
       "\n",
       "    .dataframe thead th {\n",
       "        text-align: right;\n",
       "    }\n",
       "</style>\n",
       "<table border=\"1\" class=\"dataframe\">\n",
       "  <thead>\n",
       "    <tr style=\"text-align: right;\">\n",
       "      <th></th>\n",
       "      <th>indicx</th>\n",
       "      <th>no_cidade</th>\n",
       "    </tr>\n",
       "  </thead>\n",
       "  <tbody>\n",
       "    <tr>\n",
       "      <th>5555</th>\n",
       "      <td>4.16</td>\n",
       "      <td>Trindade</td>\n",
       "    </tr>\n",
       "    <tr>\n",
       "      <th>5556</th>\n",
       "      <td>0.00</td>\n",
       "      <td>Trombas</td>\n",
       "    </tr>\n",
       "    <tr>\n",
       "      <th>5557</th>\n",
       "      <td>0.00</td>\n",
       "      <td>Turvânia</td>\n",
       "    </tr>\n",
       "    <tr>\n",
       "      <th>5558</th>\n",
       "      <td>0.00</td>\n",
       "      <td>Turvelândia</td>\n",
       "    </tr>\n",
       "    <tr>\n",
       "      <th>5559</th>\n",
       "      <td>0.00</td>\n",
       "      <td>Uirapuru</td>\n",
       "    </tr>\n",
       "    <tr>\n",
       "      <th>5560</th>\n",
       "      <td>0.00</td>\n",
       "      <td>Uruaçu</td>\n",
       "    </tr>\n",
       "    <tr>\n",
       "      <th>5561</th>\n",
       "      <td>0.00</td>\n",
       "      <td>Uruana</td>\n",
       "    </tr>\n",
       "    <tr>\n",
       "      <th>5562</th>\n",
       "      <td>0.00</td>\n",
       "      <td>Urutaí</td>\n",
       "    </tr>\n",
       "    <tr>\n",
       "      <th>5563</th>\n",
       "      <td>23.33</td>\n",
       "      <td>Valparaíso de Goiás</td>\n",
       "    </tr>\n",
       "    <tr>\n",
       "      <th>5564</th>\n",
       "      <td>0.00</td>\n",
       "      <td>Varjão</td>\n",
       "    </tr>\n",
       "    <tr>\n",
       "      <th>5565</th>\n",
       "      <td>0.00</td>\n",
       "      <td>Vianópolis</td>\n",
       "    </tr>\n",
       "    <tr>\n",
       "      <th>5566</th>\n",
       "      <td>0.00</td>\n",
       "      <td>Vicentinópolis</td>\n",
       "    </tr>\n",
       "    <tr>\n",
       "      <th>5567</th>\n",
       "      <td>0.00</td>\n",
       "      <td>Vila Boa</td>\n",
       "    </tr>\n",
       "    <tr>\n",
       "      <th>5568</th>\n",
       "      <td>0.00</td>\n",
       "      <td>Vila Propício</td>\n",
       "    </tr>\n",
       "    <tr>\n",
       "      <th>5569</th>\n",
       "      <td>46.86</td>\n",
       "      <td>Brasília</td>\n",
       "    </tr>\n",
       "  </tbody>\n",
       "</table>\n",
       "</div>"
      ],
      "text/plain": [
       "      indicx            no_cidade\n",
       "5555    4.16             Trindade\n",
       "5556    0.00              Trombas\n",
       "5557    0.00             Turvânia\n",
       "5558    0.00          Turvelândia\n",
       "5559    0.00             Uirapuru\n",
       "5560    0.00               Uruaçu\n",
       "5561    0.00               Uruana\n",
       "5562    0.00               Urutaí\n",
       "5563   23.33  Valparaíso de Goiás\n",
       "5564    0.00               Varjão\n",
       "5565    0.00           Vianópolis\n",
       "5566    0.00       Vicentinópolis\n",
       "5567    0.00             Vila Boa\n",
       "5568    0.00        Vila Propício\n",
       "5569   46.86             Brasília"
      ]
     },
     "execution_count": 10,
     "metadata": {},
     "output_type": "execute_result"
    }
   ],
   "source": [
    "df.tail(15)"
   ]
  },
  {
   "cell_type": "code",
   "execution_count": 11,
   "metadata": {},
   "outputs": [
    {
     "data": {
      "text/plain": [
       "<matplotlib.axes._subplots.AxesSubplot at 0xbc35908>"
      ]
     },
     "execution_count": 11,
     "metadata": {},
     "output_type": "execute_result"
    },
    {
     "data": {
      "image/png": "[encoded data removed]",
      "text/plain": [
       "<Figure size 432x288 with 1 Axes>"
      ]
     },
     "metadata": {
      "needs_background": "light"
     },
     "output_type": "display_data"
    }
   ],
   "source": [
    "df['indicx'].tail(10).plot.hist()"
   ]
  },
  {
   "cell_type": "code",
   "execution_count": 12,
   "metadata": {},
   "outputs": [
    {
     "data": {
      "text/plain": [
       "<matplotlib.axes._subplots.AxesSubplot at 0xbd00c50>"
      ]
     },
     "execution_count": 12,
     "metadata": {},
     "output_type": "execute_result"
    },
    {
     "data": {
      "image/png": "[encoded data removed]",
      "text/plain": [
       "<Figure size 432x288 with 1 Axes>"
      ]
     },
     "metadata": {
      "needs_background": "light"
     },
     "output_type": "display_data"
    }
   ],
   "source": [
    "df['indicx'].plot.hist(bins=30, edgecolor='black')"
   ]
  },
  {
   "cell_type": "code",
   "execution_count": 13,
   "metadata": {
    "scrolled": true
   },
   "outputs": [
    {
     "data": {
      "text/plain": [
       "<matplotlib.axes._subplots.AxesSubplot at 0xbde2630>"
      ]
     },
     "execution_count": 13,
     "metadata": {},
     "output_type": "execute_result"
    },
    {
     "data": {
      "image/png": "[encoded data removed]",
      "text/plain": [
       "<Figure size 432x288 with 1 Axes>"
      ]
     },
     "metadata": {
      "needs_background": "light"
     },
     "output_type": "display_data"
    }
   ],
   "source": [
    "df[\"indicx\"].value_counts(\"no_cidade\").tail(10).plot.bar()"
   ]
  },
  {
   "cell_type": "code",
   "execution_count": 14,
   "metadata": {},
   "outputs": [
    {
     "data": {
      "text/plain": [
       "<matplotlib.axes._subplots.AxesSubplot at 0xbe71b70>"
      ]
     },
     "execution_count": 14,
     "metadata": {},
     "output_type": "execute_result"
    },
    {
     "data": {
      "image/png": "[encoded data removed]",
      "text/plain": [
       "<Figure size 432x288 with 1 Axes>"
      ]
     },
     "metadata": {
      "needs_background": "light"
     },
     "output_type": "display_data"
    }
   ],
   "source": [
    "df ['indicx'].value_counts().tail(20).plot.barh()"
   ]
  },
  {
   "cell_type": "code",
   "execution_count": 15,
   "metadata": {},
   "outputs": [
    {
     "data": {
      "text/plain": [
       "<matplotlib.axes._subplots.AxesSubplot at 0xbef26a0>"
      ]
     },
     "execution_count": 15,
     "metadata": {},
     "output_type": "execute_result"
    },
    {
     "data": {
      "image/png": "[encoded data removed]",
      "text/plain": [
       "<Figure size 432x288 with 1 Axes>"
      ]
     },
     "metadata": {
      "needs_background": "light"
     },
     "output_type": "display_data"
    }
   ],
   "source": [
    "df[\"no_cidade\"].value_counts(\"indicx\").tail(5).plot.barh(title=\"Número de obitos investigados\")"
   ]
  },
  {
   "cell_type": "code",
   "execution_count": 16,
   "metadata": {},
   "outputs": [
    {
     "data": {
      "text/plain": [
       "indicx                     94.38\n",
       "no_cidade    São José dos Campos\n",
       "Name: 3824, dtype: object"
      ]
     },
     "execution_count": 16,
     "metadata": {},
     "output_type": "execute_result"
    }
   ],
   "source": [
    "df.loc[3824]"
   ]
  },
  {
   "cell_type": "code",
   "execution_count": 17,
   "metadata": {},
   "outputs": [
    {
     "data": {
      "text/plain": [
       "indicx                            0\n",
       "no_cidade    São Luís do Paraitinga\n",
       "Name: 3826, dtype: object"
      ]
     },
     "execution_count": 17,
     "metadata": {},
     "output_type": "execute_result"
    }
   ],
   "source": [
    "df.loc[3826]"
   ]
  },
  {
   "cell_type": "code",
   "execution_count": 18,
   "metadata": {},
   "outputs": [
    {
     "data": {
      "text/plain": [
       "indicx                 25\n",
       "no_cidade    Iracemápolis\n",
       "Name: 3512, dtype: object"
      ]
     },
     "execution_count": 18,
     "metadata": {},
     "output_type": "execute_result"
    }
   ],
   "source": [
    "df.loc[3512]"
   ]
  },
  {
   "cell_type": "code",
   "execution_count": 19,
   "metadata": {},
   "outputs": [],
   "source": [
    "x = 'indicx'\n",
    "y = 'no_cidade'"
   ]
  },
  {
   "cell_type": "code",
   "execution_count": 20,
   "metadata": {},
   "outputs": [
    {
     "data": {
      "image/png": "[encoded data removed]",
      "text/plain": [
       "<Figure size 1440x720 with 2 Axes>"
      ]
     },
     "metadata": {
      "needs_background": "light"
     },
     "output_type": "display_data"
    }
   ],
   "source": [
    "x = ['são josé dos campos', 'Bom Jesus dos Perdões']\n",
    "y = [94.38, 83.33]\n",
    "\n",
    "plt.figure(figsize=(20, 10))\n",
    "\n",
    "plt.title('Porcentagem obitos')\n",
    "\n",
    "plt.subplot(131)\n",
    "plt.bar(x, y)\n",
    "plt.subplot(132)\n",
    "plt.plot(x, y)\n",
    "plt.show()"
   ]
  },
  {
   "cell_type": "code",
   "execution_count": 21,
   "metadata": {},
   "outputs": [
    {
     "data": {
      "image/png": "[encoded data removed]",
      "text/plain": [
       "<Figure size 1440x720 with 2 Axes>"
      ]
     },
     "metadata": {
      "needs_background": "light"
     },
     "output_type": "display_data"
    }
   ],
   "source": [
    "x = ['Caçapava', 'Caraguatatuba']\n",
    "y = [95.23,78.57]\n",
    "\n",
    "plt.figure(figsize=(20, 10))\n",
    "\n",
    "plt.title('Porcentagem obitos')\n",
    "\n",
    "plt.subplot(131)\n",
    "plt.bar(x, y)\n",
    "plt.subplot(132)\n",
    "plt.plot(x, y)\n",
    "plt.show()"
   ]
  },
  {
   "cell_type": "code",
   "execution_count": 22,
   "metadata": {},
   "outputs": [
    {
     "data": {
      "image/png": "[encoded data removed]",
      "text/plain": [
       "<Figure size 1440x720 with 2 Axes>"
      ]
     },
     "metadata": {
      "needs_background": "light"
     },
     "output_type": "display_data"
    }
   ],
   "source": [
    "x = ['São Sebastião', 'Ubatuba']\n",
    "y = [93.75,13.33]\n",
    "\n",
    "plt.figure(figsize=(20, 10))\n",
    "\n",
    "plt.title('Porcentagem obitos')\n",
    "\n",
    "plt.subplot(131)\n",
    "plt.bar(x, y)\n",
    "plt.subplot(132)\n",
    "plt.plot(x, y)\n",
    "plt.show()"
   ]
  },
  {
   "cell_type": "code",
   "execution_count": null,
   "metadata": {},
   "outputs": [],
   "source": []
  },
  {
   "cell_type": "code",
   "execution_count": null,
   "metadata": {},
   "outputs": [],
   "source": []
  },
  {
   "cell_type": "code",
   "execution_count": null,
   "metadata": {},
   "outputs": [],
   "source": []
  }
 ],
 "metadata": {
  "kernelspec": {
   "display_name": "Python 3",
   "language": "python",
   "name": "python3"
  },
  "language_info": {
   "codemirror_mode": {
    "name": "ipython",
    "version": 3
   },
   "file_extension": ".py",
   "mimetype": "text/x-python",
   "name": "python",
   "nbconvert_exporter": "python",
   "pygments_lexer": "ipython3",
   "version": "3.7.3"
  }
 },
 "nbformat": 4,
 "nbformat_minor": 2
}
